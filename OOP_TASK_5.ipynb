{
  "nbformat": 4,
  "nbformat_minor": 0,
  "metadata": {
    "colab": {
      "name": "OOP_TASK-5.ipynb",
      "provenance": []
    },
    "kernelspec": {
      "name": "python3",
      "display_name": "Python 3"
    },
    "language_info": {
      "name": "python"
    }
  },
  "cells": [
    {
      "cell_type": "code",
      "metadata": {
        "colab": {
          "base_uri": "https://localhost:8080/"
        },
        "id": "NoomBObeIzMJ",
        "outputId": "49571bd6-ccb5-44bd-fae3-7883045c030c"
      },
      "source": [
        "class Shape:\n",
        "  def area(self):\n",
        "    pass\n",
        "\n",
        "\n",
        "#Square\n",
        "class Square(Shape):\n",
        "  def __init__ (self, side):\n",
        "    super().__init__()\n",
        "    self.side = side\n",
        "  \n",
        "  def area(self) :\n",
        "    return self.side * self.side\n",
        "    pass     \n",
        "\n",
        "#Circle\n",
        "class Circle(Shape):\n",
        "  pi = 3.14\n",
        "  def __init__ (self, radius):\n",
        "    super().__init__()\n",
        "    self.radius = radius\n",
        "\n",
        "  def area(self) :\n",
        "    return round(Circle.pi * (self.radius ** 2), 2)\n",
        "    pass  \n",
        "\n",
        "#Rectangle\n",
        "class Rectangle(Shape):\n",
        "  def __init__ (self, length, breadth):\n",
        "    super().__init__()\n",
        "    self.length = length\n",
        "    self.breadth = breadth\n",
        " \n",
        "  def area(self) :\n",
        "    return self.length * self.breadth\n",
        "    pass      \n",
        "\n",
        "\n",
        "r1 = Rectangle (30, 20)\n",
        "print(\"Area of rectangle :\", r1.area())\n",
        "\n",
        "c1 = Circle(12)\n",
        "print(\"Area of circle :\", format(c1.area(), \"0.2f\"))\n",
        "\n",
        "s1 = Square (15) \n",
        "print(\"Area of square :\", s1.area())"
      ],
      "execution_count": 25,
      "outputs": [
        {
          "output_type": "stream",
          "name": "stdout",
          "text": [
            "Area of rectangle : 600\n",
            "Area of circle : 452.16\n",
            "Area of square : 225\n"
          ]
        }
      ]
    },
    {
      "cell_type": "code",
      "metadata": {
        "colab": {
          "base_uri": "https://localhost:8080/"
        },
        "id": "GfpK7pbYZD0V",
        "outputId": "fa1ede5c-461f-4a80-9735-0fea83437f8d"
      },
      "source": [
        "class Travel:\n",
        "\n",
        "  def __init__(self, passengers):\n",
        "    self.__passengers=passengers\n",
        "\n",
        "  @property       #decorator\n",
        "  def passengers(self):\n",
        "    return self.__passengers\n",
        "\n",
        "  def distance(self):\n",
        "    pass\n",
        "\n",
        "  def mode(self):\n",
        "    pass\n",
        "\n",
        "class train(Travel):\n",
        "  def cost_of_transport(self):\n",
        "    print(self.passengers*60)\n",
        "\n",
        "class bus(Travel):\n",
        "  def cost_of_transport(self):\n",
        "    print(self.passengers*100)\n",
        "\n",
        "mode1 = train(10)\n",
        "print(\"The cost of trip by train =\")\n",
        "mode1.cost_of_transport()\n",
        "\n",
        "mode2 = bus(10)\n",
        "print(\"The cost of trip by bus =\")\n",
        "mode2.cost_of_transport()"
      ],
      "execution_count": 22,
      "outputs": [
        {
          "output_type": "stream",
          "name": "stdout",
          "text": [
            "The cost of trip by train =\n",
            "600\n",
            "The cost of trip by bus =\n",
            "1000\n"
          ]
        }
      ]
    },
    {
      "cell_type": "code",
      "metadata": {
        "colab": {
          "base_uri": "https://localhost:8080/"
        },
        "id": "Hlp_1DmyMBQi",
        "outputId": "cb2e9b37-9d5d-4f59-b9d4-b8fd4328ea75"
      },
      "source": [
        "class car:\n",
        "  def __init__(self,carnumber):\n",
        "    self.carnumber=carnumber\n",
        "c1=car(12345)\n",
        "c2=car(56789)\n",
        "print(\"Model number of c1 is \",c1.carnumber)\n",
        "print(\"Model number of c2 is \",c2.carnumber)\n",
        "\n",
        "def carnumberswap():\n",
        "  c1.carnumber,c2.carnumber=c2.carnumber,c1.carnumber\n",
        "  print(\"Model number of c1 is \",c1.carnumber)\n",
        "  print(\"Model number of c2 is \",c2.carnumber)\n",
        "\n",
        "print(\"After swapping values\")\n",
        "carnumberswap()"
      ],
      "execution_count": 6,
      "outputs": [
        {
          "output_type": "stream",
          "name": "stdout",
          "text": [
            "Model number of c1 is  12345\n",
            "Model number of c2 is  56789\n",
            "After swapping values\n",
            "Model number of c1 is  56789\n",
            "Model number of c2 is  12345\n"
          ]
        }
      ]
    }
  ]
}